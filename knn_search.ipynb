{
 "cells": [
  {
   "cell_type": "code",
   "execution_count": 1,
   "id": "7196c8e1-198c-41d5-ae55-fa5667973ec7",
   "metadata": {},
   "outputs": [
    {
     "name": "stdout",
     "output_type": "stream",
     "text": [
      "Collecting elasticsearch\n",
      "  Downloading elasticsearch-8.6.1-py3-none-any.whl (385 kB)\n",
      "\u001b[2K     \u001b[90m━━━━━━━━━━━━━━━━━━━━━━━━━━━━━━━━━━━━━━━\u001b[0m \u001b[32m385.4/385.4 kB\u001b[0m \u001b[31m5.5 MB/s\u001b[0m eta \u001b[36m0:00:00\u001b[0ma \u001b[36m0:00:01\u001b[0m\n",
      "\u001b[?25hCollecting elastic-transport<9,>=8\n",
      "  Using cached elastic_transport-8.4.0-py3-none-any.whl (59 kB)\n",
      "Requirement already satisfied: certifi in /opt/conda/lib/python3.10/site-packages (from elastic-transport<9,>=8->elasticsearch) (2022.12.7)\n",
      "Requirement already satisfied: urllib3<2,>=1.26.2 in /opt/conda/lib/python3.10/site-packages (from elastic-transport<9,>=8->elasticsearch) (1.26.14)\n",
      "Installing collected packages: elastic-transport, elasticsearch\n",
      "Successfully installed elastic-transport-8.4.0 elasticsearch-8.6.1\n"
     ]
    }
   ],
   "source": [
    "!pip install elasticsearch"
   ]
  },
  {
   "cell_type": "code",
   "execution_count": 1,
   "id": "6d01687e-7964-4d3b-be7d-2d786b19885d",
   "metadata": {},
   "outputs": [
    {
     "name": "stdout",
     "output_type": "stream",
     "text": [
      "{\n",
      "  \"name\" : \"91afebcfa735\",\n",
      "  \"cluster_name\" : \"docker-cluster\",\n",
      "  \"cluster_uuid\" : \"ilew_pR7RhqgqmPQv8pb2Q\",\n",
      "  \"version\" : {\n",
      "    \"number\" : \"8.5.3\",\n",
      "    \"build_flavor\" : \"default\",\n",
      "    \"build_type\" : \"docker\",\n",
      "    \"build_hash\" : \"4ed5ee9afac63de92ec98f404ccbed7d3ba9584e\",\n",
      "    \"build_date\" : \"2022-12-05T18:22:22.226119656Z\",\n",
      "    \"build_snapshot\" : false,\n",
      "    \"lucene_version\" : \"9.4.2\",\n",
      "    \"minimum_wire_compatibility_version\" : \"7.17.0\",\n",
      "    \"minimum_index_compatibility_version\" : \"7.0.0\"\n",
      "  },\n",
      "  \"tagline\" : \"You Know, for Search\"\n",
      "}\n"
     ]
    }
   ],
   "source": [
    "!curl elasticsearch:9200"
   ]
  },
  {
   "cell_type": "code",
   "execution_count": 2,
   "id": "7b8aaf2b-9bb7-46cb-9105-2d340c8c49b7",
   "metadata": {},
   "outputs": [],
   "source": [
    "from elasticsearch import Elasticsearch\n",
    "es_client = Elasticsearch(\n",
    "    hosts=[{\"scheme\": \"http\", \"host\": \"elasticsearch\", \"port\": 9200}],\n",
    ")"
   ]
  },
  {
   "cell_type": "code",
   "execution_count": 3,
   "id": "4d3e3b06-5e88-4345-bb7c-d5f630d90f76",
   "metadata": {},
   "outputs": [
    {
     "data": {
      "text/plain": [
       "ObjectApiResponse({'name': '91afebcfa735', 'cluster_name': 'docker-cluster', 'cluster_uuid': 'ilew_pR7RhqgqmPQv8pb2Q', 'version': {'number': '8.5.3', 'build_flavor': 'default', 'build_type': 'docker', 'build_hash': '4ed5ee9afac63de92ec98f404ccbed7d3ba9584e', 'build_date': '2022-12-05T18:22:22.226119656Z', 'build_snapshot': False, 'lucene_version': '9.4.2', 'minimum_wire_compatibility_version': '7.17.0', 'minimum_index_compatibility_version': '7.0.0'}, 'tagline': 'You Know, for Search'})"
      ]
     },
     "execution_count": 3,
     "metadata": {},
     "output_type": "execute_result"
    }
   ],
   "source": [
    "es_client.info()"
   ]
  },
  {
   "cell_type": "markdown",
   "id": "8fc758d1-6f5f-4151-aef8-acbb21dd96d3",
   "metadata": {},
   "source": [
    "# Building a dummy dataset"
   ]
  },
  {
   "cell_type": "code",
   "execution_count": 4,
   "id": "e5209cae-4b3a-451d-b2f8-04d546a39979",
   "metadata": {},
   "outputs": [
    {
     "data": {
      "text/html": [
       "<div>\n",
       "<style scoped>\n",
       "    .dataframe tbody tr th:only-of-type {\n",
       "        vertical-align: middle;\n",
       "    }\n",
       "\n",
       "    .dataframe tbody tr th {\n",
       "        vertical-align: top;\n",
       "    }\n",
       "\n",
       "    .dataframe thead th {\n",
       "        text-align: right;\n",
       "    }\n",
       "</style>\n",
       "<table border=\"1\" class=\"dataframe\">\n",
       "  <thead>\n",
       "    <tr style=\"text-align: right;\">\n",
       "      <th></th>\n",
       "      <th>shop_id</th>\n",
       "      <th>attribute_1</th>\n",
       "      <th>vector</th>\n",
       "    </tr>\n",
       "  </thead>\n",
       "  <tbody>\n",
       "    <tr>\n",
       "      <th>0</th>\n",
       "      <td>1</td>\n",
       "      <td>A</td>\n",
       "      <td>[1, 0, 1, 1]</td>\n",
       "    </tr>\n",
       "    <tr>\n",
       "      <th>1</th>\n",
       "      <td>2</td>\n",
       "      <td>B</td>\n",
       "      <td>[1, 0, 1, 1]</td>\n",
       "    </tr>\n",
       "    <tr>\n",
       "      <th>2</th>\n",
       "      <td>3</td>\n",
       "      <td>C</td>\n",
       "      <td>[1, 0, 1, 1]</td>\n",
       "    </tr>\n",
       "    <tr>\n",
       "      <th>3</th>\n",
       "      <td>4</td>\n",
       "      <td>A</td>\n",
       "      <td>[1, 1, 1, 1]</td>\n",
       "    </tr>\n",
       "    <tr>\n",
       "      <th>4</th>\n",
       "      <td>5</td>\n",
       "      <td>A</td>\n",
       "      <td>[1, 0.5, 1, 1]</td>\n",
       "    </tr>\n",
       "    <tr>\n",
       "      <th>5</th>\n",
       "      <td>6</td>\n",
       "      <td>A</td>\n",
       "      <td>[1, 0.1, 1, 1]</td>\n",
       "    </tr>\n",
       "  </tbody>\n",
       "</table>\n",
       "</div>"
      ],
      "text/plain": [
       "   shop_id attribute_1          vector\n",
       "0        1           A    [1, 0, 1, 1]\n",
       "1        2           B    [1, 0, 1, 1]\n",
       "2        3           C    [1, 0, 1, 1]\n",
       "3        4           A    [1, 1, 1, 1]\n",
       "4        5           A  [1, 0.5, 1, 1]\n",
       "5        6           A  [1, 0.1, 1, 1]"
      ]
     },
     "execution_count": 4,
     "metadata": {},
     "output_type": "execute_result"
    }
   ],
   "source": [
    "import pandas as pd\n",
    "df = pd.DataFrame([[1, 'A', [1, 0, 1, 1]],\n",
    "                   [2, 'B', [1, 0, 1, 1]],\n",
    "                   [3, 'C', [1, 0, 1, 1]],\n",
    "                   [4, 'A', [1, 1, 1, 1]],\n",
    "                   [5, 'A', [1, 0.5, 1, 1]],\n",
    "                   [6, 'A', [1, 0.1, 1, 1]],\n",
    "                  ], columns=['shop_id', 'attribute_1', 'vector'])\n",
    "df"
   ]
  },
  {
   "cell_type": "markdown",
   "id": "0cd04215-6f75-449f-a99f-a96b9d663cd7",
   "metadata": {},
   "source": [
    "# Index data to Elasticsearch"
   ]
  },
  {
   "cell_type": "markdown",
   "id": "dfe9d32a-f0d0-4720-84d5-da5ef37e5b69",
   "metadata": {},
   "source": [
    "## Create an index"
   ]
  },
  {
   "cell_type": "code",
   "execution_count": 11,
   "id": "c5756ef6-21c4-4ecb-a368-94ce2f40f112",
   "metadata": {
    "tags": []
   },
   "outputs": [
    {
     "name": "stdout",
     "output_type": "stream",
     "text": [
      "NotFoundError(404, 'index_not_found_exception', 'no such index [shops]', shops, index_or_alias)\n"
     ]
    }
   ],
   "source": [
    "try:\n",
    "    es_client.indices.delete(index=index_name)\n",
    "except Exception as e:\n",
    "    print(e)"
   ]
  },
  {
   "cell_type": "code",
   "execution_count": 12,
   "id": "5a367f83-a6f6-4938-9b11-5c1b5ba7d32d",
   "metadata": {},
   "outputs": [
    {
     "data": {
      "text/plain": [
       "ObjectApiResponse({'acknowledged': True, 'shards_acknowledged': True, 'index': 'shops'})"
      ]
     },
     "execution_count": 12,
     "metadata": {},
     "output_type": "execute_result"
    }
   ],
   "source": [
    "index_name = 'shops'\n",
    "settings = {\n",
    "    \"number_of_shards\": 1,\n",
    "    \"number_of_replicas\": 1\n",
    "}\n",
    "mappings = {\n",
    "    'properties': {\n",
    "        'shop_id': {'type': 'long'},\n",
    "        # 'attribute_1': {'index': 'not_analyzed', 'format': 'dateOptionalTime', 'type': 'date'},\n",
    "        'attribute_1': {'type': 'keyword'},\n",
    "        'embedding': {'type': 'dense_vector', \n",
    "                      'dims': 4,\n",
    "                      'index': True,\n",
    "                      # 'similarity': 'dot_product'\n",
    "                      'similarity': 'cosine'\n",
    "                     },\n",
    "}}\n",
    "request_body = {\n",
    "    \"settings\" : settings,\n",
    "    'mappings': mappings\n",
    "}\n",
    "es_client.indices.create(index=index_name, settings=settings, mappings=mappings)\n",
    "# es_client.indices.create(index=index_name, body=request_body)"
   ]
  },
  {
   "cell_type": "markdown",
   "id": "95b3084d-93bb-4992-b1ce-0532ead59645",
   "metadata": {},
   "source": [
    "## Bulk Insert of docs"
   ]
  },
  {
   "cell_type": "code",
   "execution_count": 13,
   "id": "6a15588f-11af-42db-93ed-dcf141ac507e",
   "metadata": {},
   "outputs": [
    {
     "data": {
      "text/plain": [
       "ObjectApiResponse({'took': 7, 'errors': False, 'items': [{'index': {'_index': 'shops', '_id': '0', '_version': 1, 'result': 'created', '_shards': {'total': 2, 'successful': 1, 'failed': 0}, '_seq_no': 0, '_primary_term': 1, 'status': 201}}, {'index': {'_index': 'shops', '_id': '1', '_version': 1, 'result': 'created', '_shards': {'total': 2, 'successful': 1, 'failed': 0}, '_seq_no': 1, '_primary_term': 1, 'status': 201}}, {'index': {'_index': 'shops', '_id': '2', '_version': 1, 'result': 'created', '_shards': {'total': 2, 'successful': 1, 'failed': 0}, '_seq_no': 2, '_primary_term': 1, 'status': 201}}, {'index': {'_index': 'shops', '_id': '3', '_version': 1, 'result': 'created', '_shards': {'total': 2, 'successful': 1, 'failed': 0}, '_seq_no': 3, '_primary_term': 1, 'status': 201}}, {'index': {'_index': 'shops', '_id': '4', '_version': 1, 'result': 'created', '_shards': {'total': 2, 'successful': 1, 'failed': 0}, '_seq_no': 4, '_primary_term': 1, 'status': 201}}, {'index': {'_index': 'shops', '_id': '5', '_version': 1, 'result': 'created', '_shards': {'total': 2, 'successful': 1, 'failed': 0}, '_seq_no': 5, '_primary_term': 1, 'status': 201}}]})"
      ]
     },
     "execution_count": 13,
     "metadata": {},
     "output_type": "execute_result"
    }
   ],
   "source": [
    "actions = []\n",
    "for i, row in enumerate(df.iterrows()):\n",
    "    action = {'index': {'_index': index_name, '_id': i}}\n",
    "    doc = {\n",
    "        'shop_id': row[1].shop_id,\n",
    "        'attribute_1': row[1].attribute_1,\n",
    "        'embedding': row[1].vector\n",
    "    }\n",
    "    actions.append(action)\n",
    "    actions.append(doc)\n",
    "es_client.bulk(index=index_name, operations=actions)"
   ]
  },
  {
   "cell_type": "code",
   "execution_count": 14,
   "id": "efd07e83-c80c-489f-96df-b0da3d0130f5",
   "metadata": {},
   "outputs": [
    {
     "name": "stdout",
     "output_type": "stream",
     "text": [
      "6\n"
     ]
    }
   ],
   "source": [
    "# check all docs have been inserted\n",
    "result = es_client.count(index=index_name)\n",
    "print(result.body['count'])"
   ]
  },
  {
   "cell_type": "markdown",
   "id": "1ab4c819-b4a7-45c8-9f43-c5f97518c5e0",
   "metadata": {},
   "source": [
    "## Query all"
   ]
  },
  {
   "cell_type": "code",
   "execution_count": 15,
   "id": "b2a6ab13-0d80-49b5-9424-b092717c8740",
   "metadata": {},
   "outputs": [
    {
     "name": "stdout",
     "output_type": "stream",
     "text": [
      "{'_index': 'shops', '_id': '0', '_score': 1.0, '_source': {'shop_id': 1, 'attribute_1': 'A', 'embedding': [1, 0, 1, 1]}}\n",
      "{'_index': 'shops', '_id': '1', '_score': 1.0, '_source': {'shop_id': 2, 'attribute_1': 'B', 'embedding': [1, 0, 1, 1]}}\n",
      "{'_index': 'shops', '_id': '2', '_score': 1.0, '_source': {'shop_id': 3, 'attribute_1': 'C', 'embedding': [1, 0, 1, 1]}}\n",
      "{'_index': 'shops', '_id': '3', '_score': 1.0, '_source': {'shop_id': 4, 'attribute_1': 'A', 'embedding': [1, 1, 1, 1]}}\n",
      "{'_index': 'shops', '_id': '4', '_score': 1.0, '_source': {'shop_id': 5, 'attribute_1': 'A', 'embedding': [1, 0.5, 1, 1]}}\n",
      "{'_index': 'shops', '_id': '5', '_score': 1.0, '_source': {'shop_id': 6, 'attribute_1': 'A', 'embedding': [1, 0.1, 1, 1]}}\n"
     ]
    }
   ],
   "source": [
    "results = es_client.search(index=index_name, query={'match_all': {}})\n",
    "for result in results['hits']['hits']:\n",
    "    print(result)"
   ]
  },
  {
   "cell_type": "markdown",
   "id": "693ff79c-fda4-4987-8840-ef9b5953edc6",
   "metadata": {},
   "source": [
    "## KNN Search"
   ]
  },
  {
   "cell_type": "code",
   "execution_count": 16,
   "id": "e6bfaca5-441d-4910-9bf0-86b1ec5838f4",
   "metadata": {},
   "outputs": [],
   "source": [
    "query_vector = [1, 0.11, 1, 1]"
   ]
  },
  {
   "cell_type": "markdown",
   "id": "2bd9bea8-7cd1-4363-a4ab-561226a2e42b",
   "metadata": {},
   "source": [
    "### Brute Force KNN\n",
    "#### Without Filter"
   ]
  },
  {
   "cell_type": "code",
   "execution_count": 17,
   "id": "7b539db2-5a5d-41e8-84e8-827bc379d970",
   "metadata": {},
   "outputs": [
    {
     "name": "stdout",
     "output_type": "stream",
     "text": [
      "{'_index': 'shops', '_id': '5', '_score': 0.99998343, '_source': {'shop_id': 6, 'attribute_1': 'A', 'embedding': [1, 0.1, 1, 1]}}\n",
      "{'_index': 'shops', '_id': '0', '_score': 0.9979894, '_source': {'shop_id': 1, 'attribute_1': 'A', 'embedding': [1, 0, 1, 1]}}\n",
      "{'_index': 'shops', '_id': '1', '_score': 0.9979894, '_source': {'shop_id': 2, 'attribute_1': 'B', 'embedding': [1, 0, 1, 1]}}\n",
      "{'_index': 'shops', '_id': '2', '_score': 0.9979894, '_source': {'shop_id': 3, 'attribute_1': 'C', 'embedding': [1, 0, 1, 1]}}\n",
      "{'_index': 'shops', '_id': '4', '_score': 0.976416, '_source': {'shop_id': 5, 'attribute_1': 'A', 'embedding': [1, 0.5, 1, 1]}}\n",
      "{'_index': 'shops', '_id': '3', '_score': 0.89597464, '_source': {'shop_id': 4, 'attribute_1': 'A', 'embedding': [1, 1, 1, 1]}}\n"
     ]
    }
   ],
   "source": [
    "query = {\n",
    "    'script_score': {\n",
    "        'query' : {'match_all': {}},\n",
    "        'script': {\n",
    "            \"source\": \"cosineSimilarity(params.queryVector, 'embedding')\",\n",
    "            \"params\": {\n",
    "              \"queryVector\": query_vector\n",
    "            }\n",
    "    }\n",
    "    },\n",
    "    }\n",
    "results = es_client.search(query=query)\n",
    "for result in results['hits']['hits']:\n",
    "    print(result)"
   ]
  },
  {
   "cell_type": "markdown",
   "id": "0ca88658-f39a-4b43-b5d1-6ffb35fcf19b",
   "metadata": {},
   "source": [
    "#### With Filter"
   ]
  },
  {
   "cell_type": "code",
   "execution_count": 18,
   "id": "2ffde325-a615-4300-950d-85bbde3ac998",
   "metadata": {},
   "outputs": [
    {
     "name": "stdout",
     "output_type": "stream",
     "text": [
      "{'_index': 'shops', '_id': '5', '_score': 0.99998343, '_source': {'shop_id': 6, 'attribute_1': 'A', 'embedding': [1, 0.1, 1, 1]}}\n",
      "{'_index': 'shops', '_id': '0', '_score': 0.9979894, '_source': {'shop_id': 1, 'attribute_1': 'A', 'embedding': [1, 0, 1, 1]}}\n",
      "{'_index': 'shops', '_id': '4', '_score': 0.976416, '_source': {'shop_id': 5, 'attribute_1': 'A', 'embedding': [1, 0.5, 1, 1]}}\n",
      "{'_index': 'shops', '_id': '3', '_score': 0.89597464, '_source': {'shop_id': 4, 'attribute_1': 'A', 'embedding': [1, 1, 1, 1]}}\n"
     ]
    }
   ],
   "source": [
    "query = {\n",
    "    'script_score': {\n",
    "        'query' : {'bool': {'filter': {'term': {'attribute_1': 'A'}}}},\n",
    "        'script': {\n",
    "            \"source\": \"cosineSimilarity(params.queryVector, 'embedding')\",\n",
    "            \"params\": {\n",
    "              \"queryVector\": query_vector\n",
    "            }\n",
    "    }\n",
    "    },\n",
    "    }\n",
    "results = es_client.search(query=query)\n",
    "for result in results['hits']['hits']:\n",
    "    print(result)"
   ]
  },
  {
   "cell_type": "markdown",
   "id": "69ea8269-97a2-44b3-8bc1-1dfa534cf1a3",
   "metadata": {},
   "source": [
    "### Approximate KNN\n",
    "#### Without filter"
   ]
  },
  {
   "cell_type": "code",
   "execution_count": 19,
   "id": "ae6efcb9-42d6-4c68-8cda-60e62d78d852",
   "metadata": {},
   "outputs": [
    {
     "name": "stdout",
     "output_type": "stream",
     "text": [
      "{'_index': 'shops', '_id': '5', '_score': 0.9999918, '_source': {'shop_id': 6, 'attribute_1': 'A', 'embedding': [1, 0.1, 1, 1]}}\n",
      "{'_index': 'shops', '_id': '0', '_score': 0.9989947, '_source': {'shop_id': 1, 'attribute_1': 'A', 'embedding': [1, 0, 1, 1]}}\n",
      "{'_index': 'shops', '_id': '1', '_score': 0.9989947, '_source': {'shop_id': 2, 'attribute_1': 'B', 'embedding': [1, 0, 1, 1]}}\n",
      "{'_index': 'shops', '_id': '2', '_score': 0.9989947, '_source': {'shop_id': 3, 'attribute_1': 'C', 'embedding': [1, 0, 1, 1]}}\n",
      "{'_index': 'shops', '_id': '4', '_score': 0.98820794, '_source': {'shop_id': 5, 'attribute_1': 'A', 'embedding': [1, 0.5, 1, 1]}}\n",
      "{'_index': 'shops', '_id': '3', '_score': 0.9479873, '_source': {'shop_id': 4, 'attribute_1': 'A', 'embedding': [1, 1, 1, 1]}}\n"
     ]
    }
   ],
   "source": [
    "TOP_K = 10\n",
    "NUM_CANDIDATES = 1000 # candidates per shard\n",
    "knn = {\n",
    "    'field': 'embedding',\n",
    "    'query_vector': query_vector,\n",
    "    'k': TOP_K,\n",
    "    'num_candidates': NUM_CANDIDATES\n",
    "}\n",
    "results = es_client.search(knn=knn)\n",
    "for result in results['hits']['hits']:\n",
    "    print(result)"
   ]
  },
  {
   "cell_type": "markdown",
   "id": "41c47e1a-f5cc-4ebb-8740-512a92a50411",
   "metadata": {},
   "source": [
    "#### With Filter"
   ]
  },
  {
   "cell_type": "code",
   "execution_count": 20,
   "id": "4fd538f9-0a55-4a7e-a36b-b8079cb7b5ce",
   "metadata": {},
   "outputs": [
    {
     "name": "stdout",
     "output_type": "stream",
     "text": [
      "{'_index': 'shops', '_id': '5', '_score': 0.9999918, '_source': {'shop_id': 6, 'attribute_1': 'A', 'embedding': [1, 0.1, 1, 1]}}\n",
      "{'_index': 'shops', '_id': '0', '_score': 0.9989947, '_source': {'shop_id': 1, 'attribute_1': 'A', 'embedding': [1, 0, 1, 1]}}\n",
      "{'_index': 'shops', '_id': '4', '_score': 0.98820794, '_source': {'shop_id': 5, 'attribute_1': 'A', 'embedding': [1, 0.5, 1, 1]}}\n",
      "{'_index': 'shops', '_id': '3', '_score': 0.9479873, '_source': {'shop_id': 4, 'attribute_1': 'A', 'embedding': [1, 1, 1, 1]}}\n"
     ]
    }
   ],
   "source": [
    "TOP_K = 10\n",
    "NUM_CANDIDATES = 1000 # candidates per shard\n",
    "knn = {\n",
    "    'field': 'embedding',\n",
    "    'query_vector': query_vector,\n",
    "    'k': TOP_K,\n",
    "    'num_candidates': NUM_CANDIDATES,\n",
    "    \"filter\": {\n",
    "      \"term\": {'attribute_1': 'A'}\n",
    "    }\n",
    "}\n",
    "results = es_client.search(knn=knn)\n",
    "for result in results['hits']['hits']:\n",
    "    print(result)"
   ]
  },
  {
   "cell_type": "markdown",
   "id": "86244473-cea6-4430-baed-6358398bb25e",
   "metadata": {},
   "source": [
    "# References on Elastic\n",
    "\n",
    "* [Dense vectors](https://www.elastic.co/guide/en/elasticsearch/reference/current/dense-vector.html)\n",
    "\n",
    "* [KNN search](https://www.elastic.co/guide/en/elasticsearch/reference/current/knn-search.html)\n",
    "\n",
    "* [Vector functions](https://www.elastic.co/guide/en/elasticsearch/reference/master/query-dsl-script-score-query.html#vector-functions)\n",
    "\n",
    "\n"
   ]
  },
  {
   "cell_type": "code",
   "execution_count": null,
   "id": "431d7395-ed89-43b6-a471-e060b5bb309d",
   "metadata": {},
   "outputs": [],
   "source": []
  },
  {
   "cell_type": "code",
   "execution_count": null,
   "id": "05c7942f-5ed7-4e81-aded-2b14c2646cef",
   "metadata": {},
   "outputs": [],
   "source": []
  },
  {
   "cell_type": "code",
   "execution_count": null,
   "id": "7d0815cb-9b78-46e1-9864-91d5f13e1679",
   "metadata": {},
   "outputs": [],
   "source": []
  }
 ],
 "metadata": {
  "kernelspec": {
   "display_name": "Python 3 (ipykernel)",
   "language": "python",
   "name": "python3"
  },
  "language_info": {
   "codemirror_mode": {
    "name": "ipython",
    "version": 3
   },
   "file_extension": ".py",
   "mimetype": "text/x-python",
   "name": "python",
   "nbconvert_exporter": "python",
   "pygments_lexer": "ipython3",
   "version": "3.10.8"
  }
 },
 "nbformat": 4,
 "nbformat_minor": 5
}
